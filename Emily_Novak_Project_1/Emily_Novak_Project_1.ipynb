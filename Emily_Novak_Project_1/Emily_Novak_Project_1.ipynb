{
  "cells": [
    {
      "cell_type": "markdown",
      "metadata": {
        "id": "3IxsI5wmMpxT"
      },
      "source": [
        "# **1. Data Analysis**"
      ]
    },
    {
      "cell_type": "code",
      "execution_count": 1,
      "metadata": {
        "colab": {
          "base_uri": "https://localhost:8080/"
        },
        "id": "36Bzbv45LX4X",
        "outputId": "8a852831-85a7-4d59-89ce-cc2777d67f22"
      },
      "outputs": [
        {
          "output_type": "stream",
          "name": "stderr",
          "text": [
            "[nltk_data] Downloading package wordnet to /root/nltk_data...\n",
            "[nltk_data] Downloading package omw-1.4 to /root/nltk_data...\n",
            "[nltk_data] Downloading package punkt to /root/nltk_data...\n",
            "[nltk_data]   Unzipping tokenizers/punkt.zip.\n",
            "[nltk_data] Downloading package punkt_tab to /root/nltk_data...\n",
            "[nltk_data]   Unzipping tokenizers/punkt_tab.zip.\n",
            "[nltk_data] Downloading package stopwords to /root/nltk_data...\n",
            "[nltk_data]   Unzipping corpora/stopwords.zip.\n",
            "[nltk_data] Downloading package averaged_perceptron_tagger to\n",
            "[nltk_data]     /root/nltk_data...\n",
            "[nltk_data]   Unzipping taggers/averaged_perceptron_tagger.zip.\n",
            "[nltk_data] Downloading package averaged_perceptron_tagger_eng to\n",
            "[nltk_data]     /root/nltk_data...\n"
          ]
        },
        {
          "output_type": "stream",
          "name": "stdout",
          "text": [
            "\n",
            " All libraries imported successfully!\n"
          ]
        },
        {
          "output_type": "stream",
          "name": "stderr",
          "text": [
            "[nltk_data]   Unzipping taggers/averaged_perceptron_tagger_eng.zip.\n",
            "[nltk_data] Downloading package tagsets_json to /root/nltk_data...\n",
            "[nltk_data]   Unzipping help/tagsets_json.zip.\n"
          ]
        }
      ],
      "source": [
        "# Import necessary libraries for data manipulation, visualization, and machine learning\n",
        "import pandas as pd\n",
        "import numpy as np\n",
        "import matplotlib.pyplot as plt\n",
        "import seaborn as sns\n",
        "import re\n",
        "import joblib\n",
        "import string\n",
        "import math\n",
        "import time\n",
        "\n",
        "# Sklearn libraries for machine learning and text processing\n",
        "from sklearn.feature_extraction.text import TfidfVectorizer, CountVectorizer\n",
        "from sklearn.naive_bayes import MultinomialNB\n",
        "from sklearn.svm import SVC\n",
        "from sklearn.linear_model import LogisticRegression\n",
        "from sklearn.ensemble import RandomForestClassifier\n",
        "from sklearn.model_selection import train_test_split, GridSearchCV, cross_val_score, StratifiedKFold, cross_validate, validation_curve, learning_curve\n",
        "from sklearn.pipeline import Pipeline, FeatureUnion\n",
        "from sklearn.preprocessing import StandardScaler, FunctionTransformer\n",
        "from sklearn import metrics\n",
        "\n",
        "\n",
        "# NLTK libraries for text processing (lemmatization, stemming, stopwords, POS tagging)\n",
        "import nltk\n",
        "from nltk.corpus import stopwords, wordnet\n",
        "from nltk.stem import WordNetLemmatizer, PorterStemmer\n",
        "from nltk.tokenize import word_tokenize\n",
        "\n",
        "# Set up visualization\n",
        "%matplotlib inline\n",
        "import matplotlib.pyplot as plt\n",
        "sns.set_style(\"whitegrid\")\n",
        "plt.style.use(\"fivethirtyeight\")\n",
        "\n",
        "# Download necessary NLTK resources for text processing\n",
        "nltk.download('wordnet')  # WordNet for lemmatization\n",
        "nltk.download('omw-1.4')  # Open Multilingual Wordnet\n",
        "nltk.download('punkt')  # Tokenizer\n",
        "nltk.download('punkt_tab')\n",
        "nltk.download('stopwords')  # Stopwords for text cleaning\n",
        "nltk.download('averaged_perceptron_tagger')  # POS tagger for part-of-speech tagging\n",
        "nltk.download('averaged_perceptron_tagger_eng')  # Additional tagger\n",
        "nltk.download('tagsets_json')  # Tagset resource\n",
        "\n",
        "print(\"\\n All libraries imported successfully!\")"
      ]
    },
    {
      "cell_type": "code",
      "execution_count": 2,
      "metadata": {
        "colab": {
          "base_uri": "https://localhost:8080/",
          "height": 108
        },
        "id": "vRBjIdUQM1pP",
        "outputId": "daca0944-e268-4c96-e3bd-5ee92179687f"
      },
      "outputs": [
        {
          "output_type": "display_data",
          "data": {
            "text/plain": [
              "<IPython.core.display.HTML object>"
            ],
            "text/html": [
              "\n",
              "     <input type=\"file\" id=\"files-3ff9bde3-b24a-45ac-9c52-369f80cf494d\" name=\"files[]\" multiple disabled\n",
              "        style=\"border:none\" />\n",
              "     <output id=\"result-3ff9bde3-b24a-45ac-9c52-369f80cf494d\">\n",
              "      Upload widget is only available when the cell has been executed in the\n",
              "      current browser session. Please rerun this cell to enable.\n",
              "      </output>\n",
              "      <script>// Copyright 2017 Google LLC\n",
              "//\n",
              "// Licensed under the Apache License, Version 2.0 (the \"License\");\n",
              "// you may not use this file except in compliance with the License.\n",
              "// You may obtain a copy of the License at\n",
              "//\n",
              "//      http://www.apache.org/licenses/LICENSE-2.0\n",
              "//\n",
              "// Unless required by applicable law or agreed to in writing, software\n",
              "// distributed under the License is distributed on an \"AS IS\" BASIS,\n",
              "// WITHOUT WARRANTIES OR CONDITIONS OF ANY KIND, either express or implied.\n",
              "// See the License for the specific language governing permissions and\n",
              "// limitations under the License.\n",
              "\n",
              "/**\n",
              " * @fileoverview Helpers for google.colab Python module.\n",
              " */\n",
              "(function(scope) {\n",
              "function span(text, styleAttributes = {}) {\n",
              "  const element = document.createElement('span');\n",
              "  element.textContent = text;\n",
              "  for (const key of Object.keys(styleAttributes)) {\n",
              "    element.style[key] = styleAttributes[key];\n",
              "  }\n",
              "  return element;\n",
              "}\n",
              "\n",
              "// Max number of bytes which will be uploaded at a time.\n",
              "const MAX_PAYLOAD_SIZE = 100 * 1024;\n",
              "\n",
              "function _uploadFiles(inputId, outputId) {\n",
              "  const steps = uploadFilesStep(inputId, outputId);\n",
              "  const outputElement = document.getElementById(outputId);\n",
              "  // Cache steps on the outputElement to make it available for the next call\n",
              "  // to uploadFilesContinue from Python.\n",
              "  outputElement.steps = steps;\n",
              "\n",
              "  return _uploadFilesContinue(outputId);\n",
              "}\n",
              "\n",
              "// This is roughly an async generator (not supported in the browser yet),\n",
              "// where there are multiple asynchronous steps and the Python side is going\n",
              "// to poll for completion of each step.\n",
              "// This uses a Promise to block the python side on completion of each step,\n",
              "// then passes the result of the previous step as the input to the next step.\n",
              "function _uploadFilesContinue(outputId) {\n",
              "  const outputElement = document.getElementById(outputId);\n",
              "  const steps = outputElement.steps;\n",
              "\n",
              "  const next = steps.next(outputElement.lastPromiseValue);\n",
              "  return Promise.resolve(next.value.promise).then((value) => {\n",
              "    // Cache the last promise value to make it available to the next\n",
              "    // step of the generator.\n",
              "    outputElement.lastPromiseValue = value;\n",
              "    return next.value.response;\n",
              "  });\n",
              "}\n",
              "\n",
              "/**\n",
              " * Generator function which is called between each async step of the upload\n",
              " * process.\n",
              " * @param {string} inputId Element ID of the input file picker element.\n",
              " * @param {string} outputId Element ID of the output display.\n",
              " * @return {!Iterable<!Object>} Iterable of next steps.\n",
              " */\n",
              "function* uploadFilesStep(inputId, outputId) {\n",
              "  const inputElement = document.getElementById(inputId);\n",
              "  inputElement.disabled = false;\n",
              "\n",
              "  const outputElement = document.getElementById(outputId);\n",
              "  outputElement.innerHTML = '';\n",
              "\n",
              "  const pickedPromise = new Promise((resolve) => {\n",
              "    inputElement.addEventListener('change', (e) => {\n",
              "      resolve(e.target.files);\n",
              "    });\n",
              "  });\n",
              "\n",
              "  const cancel = document.createElement('button');\n",
              "  inputElement.parentElement.appendChild(cancel);\n",
              "  cancel.textContent = 'Cancel upload';\n",
              "  const cancelPromise = new Promise((resolve) => {\n",
              "    cancel.onclick = () => {\n",
              "      resolve(null);\n",
              "    };\n",
              "  });\n",
              "\n",
              "  // Wait for the user to pick the files.\n",
              "  const files = yield {\n",
              "    promise: Promise.race([pickedPromise, cancelPromise]),\n",
              "    response: {\n",
              "      action: 'starting',\n",
              "    }\n",
              "  };\n",
              "\n",
              "  cancel.remove();\n",
              "\n",
              "  // Disable the input element since further picks are not allowed.\n",
              "  inputElement.disabled = true;\n",
              "\n",
              "  if (!files) {\n",
              "    return {\n",
              "      response: {\n",
              "        action: 'complete',\n",
              "      }\n",
              "    };\n",
              "  }\n",
              "\n",
              "  for (const file of files) {\n",
              "    const li = document.createElement('li');\n",
              "    li.append(span(file.name, {fontWeight: 'bold'}));\n",
              "    li.append(span(\n",
              "        `(${file.type || 'n/a'}) - ${file.size} bytes, ` +\n",
              "        `last modified: ${\n",
              "            file.lastModifiedDate ? file.lastModifiedDate.toLocaleDateString() :\n",
              "                                    'n/a'} - `));\n",
              "    const percent = span('0% done');\n",
              "    li.appendChild(percent);\n",
              "\n",
              "    outputElement.appendChild(li);\n",
              "\n",
              "    const fileDataPromise = new Promise((resolve) => {\n",
              "      const reader = new FileReader();\n",
              "      reader.onload = (e) => {\n",
              "        resolve(e.target.result);\n",
              "      };\n",
              "      reader.readAsArrayBuffer(file);\n",
              "    });\n",
              "    // Wait for the data to be ready.\n",
              "    let fileData = yield {\n",
              "      promise: fileDataPromise,\n",
              "      response: {\n",
              "        action: 'continue',\n",
              "      }\n",
              "    };\n",
              "\n",
              "    // Use a chunked sending to avoid message size limits. See b/62115660.\n",
              "    let position = 0;\n",
              "    do {\n",
              "      const length = Math.min(fileData.byteLength - position, MAX_PAYLOAD_SIZE);\n",
              "      const chunk = new Uint8Array(fileData, position, length);\n",
              "      position += length;\n",
              "\n",
              "      const base64 = btoa(String.fromCharCode.apply(null, chunk));\n",
              "      yield {\n",
              "        response: {\n",
              "          action: 'append',\n",
              "          file: file.name,\n",
              "          data: base64,\n",
              "        },\n",
              "      };\n",
              "\n",
              "      let percentDone = fileData.byteLength === 0 ?\n",
              "          100 :\n",
              "          Math.round((position / fileData.byteLength) * 100);\n",
              "      percent.textContent = `${percentDone}% done`;\n",
              "\n",
              "    } while (position < fileData.byteLength);\n",
              "  }\n",
              "\n",
              "  // All done.\n",
              "  yield {\n",
              "    response: {\n",
              "      action: 'complete',\n",
              "    }\n",
              "  };\n",
              "}\n",
              "\n",
              "scope.google = scope.google || {};\n",
              "scope.google.colab = scope.google.colab || {};\n",
              "scope.google.colab._files = {\n",
              "  _uploadFiles,\n",
              "  _uploadFilesContinue,\n",
              "};\n",
              "})(self);\n",
              "</script> "
            ]
          },
          "metadata": {}
        },
        {
          "output_type": "stream",
          "name": "stdout",
          "text": [
            "Saving AI_vs_huam_train_dataset.xlsx to AI_vs_huam_train_dataset.xlsx\n",
            "Saving Final_test_data.csv to Final_test_data.csv\n"
          ]
        }
      ],
      "source": [
        "# Import Data\n",
        "from google.colab import files\n",
        "uploaded = files.upload()"
      ]
    },
    {
      "cell_type": "code",
      "execution_count": 3,
      "metadata": {
        "id": "_v02i1ZENDBC"
      },
      "outputs": [],
      "source": [
        "# Read Data\n",
        "df_train = pd.read_excel('AI_vs_huam_train_dataset.xlsx')\n",
        "df_test = pd.read_csv('Final_test_data.csv')"
      ]
    },
    {
      "cell_type": "code",
      "execution_count": 4,
      "metadata": {
        "colab": {
          "base_uri": "https://localhost:8080/"
        },
        "id": "774zbOMhNT_k",
        "outputId": "50de5dab-fe8f-4a07-e6bd-d8f6a6889055"
      },
      "outputs": [
        {
          "output_type": "stream",
          "name": "stdout",
          "text": [
            "Dataset Information:\n",
            "Training data shape: (3728, 2)\n",
            "Test data shape: (869, 2)\n",
            "Columns: ['essay', 'label']\n",
            "\n",
            "First 5 rows of training data:\n",
            "                                               essay  label\n",
            "0  International sports events require the most w...      0\n",
            "1  Globalisation has become a significant aspect ...      0\n",
            "2  There is an ever-increasing number of bullying...      0\n",
            "3  It is commonly believed, that companies should...      0\n",
            "4  Despite knowing about the adverse effects of c...      0\n",
            "\n",
            "Label distribution:\n",
            "label\n",
            "0    1864\n",
            "1    1864\n",
            "Name: count, dtype: int64\n"
          ]
        }
      ],
      "source": [
        "print(\"Dataset Information:\")\n",
        "print(f\"Training data shape: {df_train.shape}\")\n",
        "print(f\"Test data shape: {df_test.shape}\")\n",
        "print(f\"Columns: {df_train.columns.tolist()}\")\n",
        "\n",
        "# Show first few rows\n",
        "print(\"\\nFirst 5 rows of training data:\")\n",
        "print(df_train.head())\n",
        "\n",
        "# Check sentiment distribution\n",
        "print(\"\\nLabel distribution:\")\n",
        "print(df_train['label'].value_counts())"
      ]
    },
    {
      "cell_type": "code",
      "execution_count": 6,
      "metadata": {
        "colab": {
          "base_uri": "https://localhost:8080/",
          "height": 175
        },
        "id": "OCHdNw7INYrL",
        "outputId": "3fc8b71f-ba3c-44ef-b3dc-88e875d97f9a"
      },
      "outputs": [
        {
          "output_type": "execute_result",
          "data": {
            "text/plain": [
              "      essay                                                               \n",
              "      count unique                                                top freq\n",
              "label                                                                     \n",
              "0      1864   1864  Eessential way to succeed is trying new things...    1\n",
              "1      1864   1864  The key to success is trying new things while ...    1"
            ],
            "text/html": [
              "\n",
              "  <div id=\"df-00a7b1e6-70bd-4f08-a0db-505ec65b609f\" class=\"colab-df-container\">\n",
              "    <div>\n",
              "<style scoped>\n",
              "    .dataframe tbody tr th:only-of-type {\n",
              "        vertical-align: middle;\n",
              "    }\n",
              "\n",
              "    .dataframe tbody tr th {\n",
              "        vertical-align: top;\n",
              "    }\n",
              "\n",
              "    .dataframe thead tr th {\n",
              "        text-align: left;\n",
              "    }\n",
              "\n",
              "    .dataframe thead tr:last-of-type th {\n",
              "        text-align: right;\n",
              "    }\n",
              "</style>\n",
              "<table border=\"1\" class=\"dataframe\">\n",
              "  <thead>\n",
              "    <tr>\n",
              "      <th></th>\n",
              "      <th colspan=\"4\" halign=\"left\">essay</th>\n",
              "    </tr>\n",
              "    <tr>\n",
              "      <th></th>\n",
              "      <th>count</th>\n",
              "      <th>unique</th>\n",
              "      <th>top</th>\n",
              "      <th>freq</th>\n",
              "    </tr>\n",
              "    <tr>\n",
              "      <th>label</th>\n",
              "      <th></th>\n",
              "      <th></th>\n",
              "      <th></th>\n",
              "      <th></th>\n",
              "    </tr>\n",
              "  </thead>\n",
              "  <tbody>\n",
              "    <tr>\n",
              "      <th>0</th>\n",
              "      <td>1864</td>\n",
              "      <td>1864</td>\n",
              "      <td>Eessential way to succeed is trying new things...</td>\n",
              "      <td>1</td>\n",
              "    </tr>\n",
              "    <tr>\n",
              "      <th>1</th>\n",
              "      <td>1864</td>\n",
              "      <td>1864</td>\n",
              "      <td>The key to success is trying new things while ...</td>\n",
              "      <td>1</td>\n",
              "    </tr>\n",
              "  </tbody>\n",
              "</table>\n",
              "</div>\n",
              "    <div class=\"colab-df-buttons\">\n",
              "\n",
              "  <div class=\"colab-df-container\">\n",
              "    <button class=\"colab-df-convert\" onclick=\"convertToInteractive('df-00a7b1e6-70bd-4f08-a0db-505ec65b609f')\"\n",
              "            title=\"Convert this dataframe to an interactive table.\"\n",
              "            style=\"display:none;\">\n",
              "\n",
              "  <svg xmlns=\"http://www.w3.org/2000/svg\" height=\"24px\" viewBox=\"0 -960 960 960\">\n",
              "    <path d=\"M120-120v-720h720v720H120Zm60-500h600v-160H180v160Zm220 220h160v-160H400v160Zm0 220h160v-160H400v160ZM180-400h160v-160H180v160Zm440 0h160v-160H620v160ZM180-180h160v-160H180v160Zm440 0h160v-160H620v160Z\"/>\n",
              "  </svg>\n",
              "    </button>\n",
              "\n",
              "  <style>\n",
              "    .colab-df-container {\n",
              "      display:flex;\n",
              "      gap: 12px;\n",
              "    }\n",
              "\n",
              "    .colab-df-convert {\n",
              "      background-color: #E8F0FE;\n",
              "      border: none;\n",
              "      border-radius: 50%;\n",
              "      cursor: pointer;\n",
              "      display: none;\n",
              "      fill: #1967D2;\n",
              "      height: 32px;\n",
              "      padding: 0 0 0 0;\n",
              "      width: 32px;\n",
              "    }\n",
              "\n",
              "    .colab-df-convert:hover {\n",
              "      background-color: #E2EBFA;\n",
              "      box-shadow: 0px 1px 2px rgba(60, 64, 67, 0.3), 0px 1px 3px 1px rgba(60, 64, 67, 0.15);\n",
              "      fill: #174EA6;\n",
              "    }\n",
              "\n",
              "    .colab-df-buttons div {\n",
              "      margin-bottom: 4px;\n",
              "    }\n",
              "\n",
              "    [theme=dark] .colab-df-convert {\n",
              "      background-color: #3B4455;\n",
              "      fill: #D2E3FC;\n",
              "    }\n",
              "\n",
              "    [theme=dark] .colab-df-convert:hover {\n",
              "      background-color: #434B5C;\n",
              "      box-shadow: 0px 1px 3px 1px rgba(0, 0, 0, 0.15);\n",
              "      filter: drop-shadow(0px 1px 2px rgba(0, 0, 0, 0.3));\n",
              "      fill: #FFFFFF;\n",
              "    }\n",
              "  </style>\n",
              "\n",
              "    <script>\n",
              "      const buttonEl =\n",
              "        document.querySelector('#df-00a7b1e6-70bd-4f08-a0db-505ec65b609f button.colab-df-convert');\n",
              "      buttonEl.style.display =\n",
              "        google.colab.kernel.accessAllowed ? 'block' : 'none';\n",
              "\n",
              "      async function convertToInteractive(key) {\n",
              "        const element = document.querySelector('#df-00a7b1e6-70bd-4f08-a0db-505ec65b609f');\n",
              "        const dataTable =\n",
              "          await google.colab.kernel.invokeFunction('convertToInteractive',\n",
              "                                                    [key], {});\n",
              "        if (!dataTable) return;\n",
              "\n",
              "        const docLinkHtml = 'Like what you see? Visit the ' +\n",
              "          '<a target=\"_blank\" href=https://colab.research.google.com/notebooks/data_table.ipynb>data table notebook</a>'\n",
              "          + ' to learn more about interactive tables.';\n",
              "        element.innerHTML = '';\n",
              "        dataTable['output_type'] = 'display_data';\n",
              "        await google.colab.output.renderOutput(dataTable, element);\n",
              "        const docLink = document.createElement('div');\n",
              "        docLink.innerHTML = docLinkHtml;\n",
              "        element.appendChild(docLink);\n",
              "      }\n",
              "    </script>\n",
              "  </div>\n",
              "\n",
              "\n",
              "    <div id=\"df-452e1059-71c9-4ca6-a7ce-9a752b76ff17\">\n",
              "      <button class=\"colab-df-quickchart\" onclick=\"quickchart('df-452e1059-71c9-4ca6-a7ce-9a752b76ff17')\"\n",
              "                title=\"Suggest charts\"\n",
              "                style=\"display:none;\">\n",
              "\n",
              "<svg xmlns=\"http://www.w3.org/2000/svg\" height=\"24px\"viewBox=\"0 0 24 24\"\n",
              "     width=\"24px\">\n",
              "    <g>\n",
              "        <path d=\"M19 3H5c-1.1 0-2 .9-2 2v14c0 1.1.9 2 2 2h14c1.1 0 2-.9 2-2V5c0-1.1-.9-2-2-2zM9 17H7v-7h2v7zm4 0h-2V7h2v10zm4 0h-2v-4h2v4z\"/>\n",
              "    </g>\n",
              "</svg>\n",
              "      </button>\n",
              "\n",
              "<style>\n",
              "  .colab-df-quickchart {\n",
              "      --bg-color: #E8F0FE;\n",
              "      --fill-color: #1967D2;\n",
              "      --hover-bg-color: #E2EBFA;\n",
              "      --hover-fill-color: #174EA6;\n",
              "      --disabled-fill-color: #AAA;\n",
              "      --disabled-bg-color: #DDD;\n",
              "  }\n",
              "\n",
              "  [theme=dark] .colab-df-quickchart {\n",
              "      --bg-color: #3B4455;\n",
              "      --fill-color: #D2E3FC;\n",
              "      --hover-bg-color: #434B5C;\n",
              "      --hover-fill-color: #FFFFFF;\n",
              "      --disabled-bg-color: #3B4455;\n",
              "      --disabled-fill-color: #666;\n",
              "  }\n",
              "\n",
              "  .colab-df-quickchart {\n",
              "    background-color: var(--bg-color);\n",
              "    border: none;\n",
              "    border-radius: 50%;\n",
              "    cursor: pointer;\n",
              "    display: none;\n",
              "    fill: var(--fill-color);\n",
              "    height: 32px;\n",
              "    padding: 0;\n",
              "    width: 32px;\n",
              "  }\n",
              "\n",
              "  .colab-df-quickchart:hover {\n",
              "    background-color: var(--hover-bg-color);\n",
              "    box-shadow: 0 1px 2px rgba(60, 64, 67, 0.3), 0 1px 3px 1px rgba(60, 64, 67, 0.15);\n",
              "    fill: var(--button-hover-fill-color);\n",
              "  }\n",
              "\n",
              "  .colab-df-quickchart-complete:disabled,\n",
              "  .colab-df-quickchart-complete:disabled:hover {\n",
              "    background-color: var(--disabled-bg-color);\n",
              "    fill: var(--disabled-fill-color);\n",
              "    box-shadow: none;\n",
              "  }\n",
              "\n",
              "  .colab-df-spinner {\n",
              "    border: 2px solid var(--fill-color);\n",
              "    border-color: transparent;\n",
              "    border-bottom-color: var(--fill-color);\n",
              "    animation:\n",
              "      spin 1s steps(1) infinite;\n",
              "  }\n",
              "\n",
              "  @keyframes spin {\n",
              "    0% {\n",
              "      border-color: transparent;\n",
              "      border-bottom-color: var(--fill-color);\n",
              "      border-left-color: var(--fill-color);\n",
              "    }\n",
              "    20% {\n",
              "      border-color: transparent;\n",
              "      border-left-color: var(--fill-color);\n",
              "      border-top-color: var(--fill-color);\n",
              "    }\n",
              "    30% {\n",
              "      border-color: transparent;\n",
              "      border-left-color: var(--fill-color);\n",
              "      border-top-color: var(--fill-color);\n",
              "      border-right-color: var(--fill-color);\n",
              "    }\n",
              "    40% {\n",
              "      border-color: transparent;\n",
              "      border-right-color: var(--fill-color);\n",
              "      border-top-color: var(--fill-color);\n",
              "    }\n",
              "    60% {\n",
              "      border-color: transparent;\n",
              "      border-right-color: var(--fill-color);\n",
              "    }\n",
              "    80% {\n",
              "      border-color: transparent;\n",
              "      border-right-color: var(--fill-color);\n",
              "      border-bottom-color: var(--fill-color);\n",
              "    }\n",
              "    90% {\n",
              "      border-color: transparent;\n",
              "      border-bottom-color: var(--fill-color);\n",
              "    }\n",
              "  }\n",
              "</style>\n",
              "\n",
              "      <script>\n",
              "        async function quickchart(key) {\n",
              "          const quickchartButtonEl =\n",
              "            document.querySelector('#' + key + ' button');\n",
              "          quickchartButtonEl.disabled = true;  // To prevent multiple clicks.\n",
              "          quickchartButtonEl.classList.add('colab-df-spinner');\n",
              "          try {\n",
              "            const charts = await google.colab.kernel.invokeFunction(\n",
              "                'suggestCharts', [key], {});\n",
              "          } catch (error) {\n",
              "            console.error('Error during call to suggestCharts:', error);\n",
              "          }\n",
              "          quickchartButtonEl.classList.remove('colab-df-spinner');\n",
              "          quickchartButtonEl.classList.add('colab-df-quickchart-complete');\n",
              "        }\n",
              "        (() => {\n",
              "          let quickchartButtonEl =\n",
              "            document.querySelector('#df-452e1059-71c9-4ca6-a7ce-9a752b76ff17 button');\n",
              "          quickchartButtonEl.style.display =\n",
              "            google.colab.kernel.accessAllowed ? 'block' : 'none';\n",
              "        })();\n",
              "      </script>\n",
              "    </div>\n",
              "\n",
              "    </div>\n",
              "  </div>\n"
            ],
            "application/vnd.google.colaboratory.intrinsic+json": {
              "type": "dataframe",
              "summary": "{\n  \"name\": \"df_train\",\n  \"rows\": 2,\n  \"fields\": [\n    {\n      \"column\": [\n        \"label\",\n        \"\"\n      ],\n      \"properties\": {\n        \"dtype\": \"number\",\n        \"std\": 0,\n        \"min\": 0,\n        \"max\": 1,\n        \"num_unique_values\": 2,\n        \"samples\": [\n          1,\n          0\n        ],\n        \"semantic_type\": \"\",\n        \"description\": \"\"\n      }\n    },\n    {\n      \"column\": [\n        \"essay\",\n        \"count\"\n      ],\n      \"properties\": {\n        \"dtype\": \"date\",\n        \"min\": \"1864\",\n        \"max\": \"1864\",\n        \"num_unique_values\": 1,\n        \"samples\": [\n          \"1864\"\n        ],\n        \"semantic_type\": \"\",\n        \"description\": \"\"\n      }\n    },\n    {\n      \"column\": [\n        \"essay\",\n        \"unique\"\n      ],\n      \"properties\": {\n        \"dtype\": \"date\",\n        \"min\": 1864,\n        \"max\": 1864,\n        \"num_unique_values\": 1,\n        \"samples\": [\n          1864\n        ],\n        \"semantic_type\": \"\",\n        \"description\": \"\"\n      }\n    },\n    {\n      \"column\": [\n        \"essay\",\n        \"top\"\n      ],\n      \"properties\": {\n        \"dtype\": \"string\",\n        \"num_unique_values\": 2,\n        \"samples\": [\n          \"The key to success is trying new things while minimizing risks. That\\u201a\\u00c4\\u00f4s why I disagree with the idea that successful people simply take risks and try new things without caution.\\n\\nSuccessful people are always eager to learn and put in consistent effort. This often makes it seem like they only do things they already know how to do well. In reality, they approach new challenges\\u201a\\u00c4\\u00eewhether in business or sports\\u201a\\u00c4\\u00eewith care. Before starting something new, they imagine possible outcomes and examine the situation thoroughly. Once they feel confident, they move forward. For instance, a successful fast food chain studies how many people pass by and what kinds of people are in the area before opening a new location.\\n\\nPeople who take big risks and try new things can be interesting, but they rarely achieve lasting success. Even if they succeed once, they often face failure later. For example, some internet business owners who once made a fortune lost everything suddenly. Their success was based on trends or luck, not on a solid understanding of how to succeed. Unfortunately, they spent all their money on new ventures without proper planning.\\n\\nI believe that real success comes from hard work and effort. People who do their best usually take fewer risks. Therefore, trying new things with as little risk as possible is the real key to success.\"\n        ],\n        \"semantic_type\": \"\",\n        \"description\": \"\"\n      }\n    },\n    {\n      \"column\": [\n        \"essay\",\n        \"freq\"\n      ],\n      \"properties\": {\n        \"dtype\": \"date\",\n        \"min\": \"1\",\n        \"max\": \"1\",\n        \"num_unique_values\": 1,\n        \"samples\": [\n          \"1\"\n        ],\n        \"semantic_type\": \"\",\n        \"description\": \"\"\n      }\n    }\n  ]\n}"
            }
          },
          "metadata": {},
          "execution_count": 6
        }
      ],
      "source": [
        "df_train.groupby('label').describe()"
      ]
    },
    {
      "cell_type": "markdown",
      "metadata": {
        "id": "d6o0LttLPSl8"
      },
      "source": [
        "# **2. Text Preprocessing**"
      ]
    },
    {
      "cell_type": "code",
      "execution_count": 5,
      "metadata": {
        "colab": {
          "base_uri": "https://localhost:8080/"
        },
        "id": "d78hiaAfPGFk",
        "outputId": "21489e0a-71b1-457a-8b2d-f9d59d1e0f47"
      },
      "outputs": [
        {
          "output_type": "stream",
          "name": "stdout",
          "text": [
            "Text preprocessing class created!\n"
          ]
        }
      ],
      "source": [
        "#  Advanced Text Preprocessing with Lemmatization\n",
        "\n",
        "class TextPreprocessor:\n",
        "    \"\"\"\n",
        "    Advanced text preprocessing class with lemmatization\n",
        "    This will clean text better than basic preprocessing\n",
        "    \"\"\"\n",
        "\n",
        "    def __init__(self):\n",
        "        self.lemmatizer = WordNetLemmatizer()\n",
        "        self.stop_words = set(stopwords.words('english'))\n",
        "        # Add custom stop words\n",
        "        self.stop_words.update(['u', 'ur', 'im', 'dont', 'doin', 'ure'])\n",
        "\n",
        "    def get_wordnet_pos(self, word):\n",
        "        \"\"\"Convert POS tag to format accepted by WordNet lemmatizer\"\"\"\n",
        "        tag = nltk.pos_tag([word])[0][1][0].upper()\n",
        "        tag_dict = {\"J\": wordnet.ADJ,\n",
        "                    \"N\": wordnet.NOUN,\n",
        "                    \"V\": wordnet.VERB,\n",
        "                    \"R\": wordnet.ADV}\n",
        "        return tag_dict.get(tag, wordnet.NOUN)\n",
        "\n",
        "    def clean_text(self, text):\n",
        "        \"\"\"Basic text cleaning\"\"\"\n",
        "        if not isinstance(text, str):\n",
        "            return \"\"\n",
        "\n",
        "        # Convert to lowercase\n",
        "        text = text.lower()\n",
        "\n",
        "        # Remove URLs, emails, HTML tags\n",
        "        text = re.sub(r'http\\S+|www\\S+|https\\S+', '', text)\n",
        "        text = re.sub(r'\\S+@\\S+', '', text)\n",
        "        text = re.sub(r'<.*?>', '', text)\n",
        "\n",
        "        # Remove special characters but keep spaces\n",
        "        text = re.sub(r'[^a-zA-Z\\s]', '', text)\n",
        "\n",
        "        # Remove digits\n",
        "        text = re.sub(r'\\d', '', text)\n",
        "\n",
        "        # Remove extra whitespace\n",
        "        text = ' '.join(text.split())\n",
        "\n",
        "        return text\n",
        "\n",
        "    def lemmatize_text(self, text):\n",
        "        \"\"\"Apply lemmatization with POS tagging\"\"\"\n",
        "        tokens = word_tokenize(text)\n",
        "\n",
        "        lemmatized_tokens = []\n",
        "        for token in tokens:\n",
        "            if token not in self.stop_words and len(token) > 2:\n",
        "                # Get POS tag and lemmatize\n",
        "                pos_tag = self.get_wordnet_pos(token)\n",
        "                lemmatized_token = self.lemmatizer.lemmatize(token, pos_tag)\n",
        "                lemmatized_tokens.append(lemmatized_token)\n",
        "\n",
        "        return ' '.join(lemmatized_tokens)\n",
        "\n",
        "    def preprocess(self, text):\n",
        "        \"\"\"Complete preprocessing pipeline\"\"\"\n",
        "        cleaned_text = self.clean_text(text)\n",
        "        lemmatized_text = self.lemmatize_text(cleaned_text)\n",
        "        return lemmatized_text\n",
        "\n",
        "print(\"Text preprocessing class created!\")"
      ]
    },
    {
      "cell_type": "code",
      "execution_count": 6,
      "metadata": {
        "colab": {
          "base_uri": "https://localhost:8080/"
        },
        "id": "nT_g-_uUQWrJ",
        "outputId": "bb4a798f-6fc7-4856-f09e-d6753a6dc1f6"
      },
      "outputs": [
        {
          "output_type": "stream",
          "name": "stdout",
          "text": [
            "Applying advanced text preprocessing with lemmatization...\n",
            "Text preprocessing completed!\n"
          ]
        }
      ],
      "source": [
        "# Apply Text Preprocessing to the \"text\" column\n",
        "\n",
        "# Initialize the preprocessor\n",
        "preprocessor = TextPreprocessor()\n",
        "\n",
        "print(\"Applying advanced text preprocessing with lemmatization...\")\n",
        "\n",
        "# Apply preprocessing to training data\n",
        "df_train['clean_essay'] = df_train['essay'].apply(preprocessor.preprocess)\n",
        "\n",
        "# Apply preprocessing to test data\n",
        "df_test['clean_essay'] = df_test['essay'].apply(preprocessor.preprocess)\n",
        "\n",
        "print(\"Text preprocessing completed!\")"
      ]
    },
    {
      "cell_type": "code",
      "execution_count": 9,
      "metadata": {
        "colab": {
          "base_uri": "https://localhost:8080/"
        },
        "id": "Og-zIEx_Qp-a",
        "outputId": "ccd3356f-99ac-4b0c-d456-85038e988ef1"
      },
      "outputs": [
        {
          "output_type": "stream",
          "name": "stdout",
          "text": [
            "\n",
            "Examples of text preprocessing:\n",
            "Original: International sports events require the most well-trained athletes for each country, in order to achieve this goal countries make an effort to build infrastructure designed to train top athletes. Although this policy can indeed make fewer sports facilities for ordinary people, investing in the best athletes is vital to develop competitive sports performances in each country.\n",
            "On the one hand, building specific infrastructure for the best athletes is crucial in order to get better results at international sports events such as The Olympics or the World Cup. The importance of getting better results is that it creates awareness of the importance of sports in society and motivates more people to do a sport. In this way, investing in these developments can help countries to develop an integral sport policy that can benefit everyone.\n",
            "On the other hand, one can argue that a negative effect could be that less infrastructure is built for the rest of the people. However, people who practice a sport in their daily life do not necessarily need some facilities to do sports. For example, people often use public spaces to do sports such as running or doing yoga at the nearest park to their home. So, for people who is not top athletes there could be some alternatives for sports facility that ,is not the case for training top athletes.\n",
            "To sum up, I strongly believe countries should invest in specialised infrastructure for their best athletes because in the long term is going to generate more motivation to do sports, to invest in sports at schools and therefore to build more sports infrastructure for everyone.\n",
            "Processed: international sport event require welltrained athlete country order achieve goal country make effort build infrastructure design train top athlete although policy indeed make few sport facility ordinary people invest best athlete vital develop competitive sport performance country one hand building specific infrastructure best athlete crucial order get well result international sport event olympics world cup importance get well result creates awareness importance sport society motivates people sport way invest development help country develop integral sport policy benefit everyone hand one argue negative effect could less infrastructure built rest people however people practice sport daily life necessarily need facility sport example people often use public space sport run yoga near park home people top athlete could alternative sport facility case training top athlete sum strongly believe country invest specialise infrastructure best athlete long term go generate motivation sport invest sport school therefore build sport infrastructure everyone\n",
            "\n",
            "Original: These days the space exploration is not just an imagination since human beings landed and step their foot on the moon decades ago. In addition, the fast technology evolution in the present came from the concerns of many scientists around the world. Some people believe that focusing on the space evolution matter. While others argue that they should invest inside the country. In my opinion, the exploration of our planet could enhance people's lives in many different ways. However, the human organization should do the best in other more useful sectors to improve human needs.\n",
            "On one hand, the space exploration has always been a fascinating topic over recent years. Scientists researching to find out and trying to know what is hiding out of the black hole and another universal plant if it is livable or has any natural resources. For example, in 1991 research proved that to travel from the earth to the nearest planet it could take approximately 3 to 4 months continually. In other words, exploration of a planet is costly as well as takes much time to reach it.\n",
            "On the other hand, the benefit of universe exploration may change our earth's environment and improve our lives for the next coming generation in technology. For instance, people after the year 2000 had better communication with each other which was not even possible at any time ever. Moreover, the government invests to develop space exploration companies.\n",
            "In conclusion, after carefully explaining my points of view I strongly believe that space companies such as SpaceX must try to find a new resources to visit other planets. However, I agree that they should be done after providing the basic needs of the human on earth and investing to solve poverty and any other human tragedies.\n",
            "Processed: day space exploration imagination since human being land step foot moon decade ago addition fast technology evolution present come concern many scientist around world people believe focus space evolution matter others argue invest inside country opinion exploration planet could enhance people life many different way however human organization best useful sector improve human need one hand space exploration always fascinate topic recent year scientist research find try know hiding black hole another universal plant livable natural resource example research prove travel earth near planet could take approximately month continually word exploration planet costly well take much time reach hand benefit universe exploration may change earth environment improve life next come generation technology instance people year well communication even possible time ever moreover government invests develop space exploration company conclusion carefully explain point view strongly believe space company spacex must try find new resource visit planet however agree do provide basic need human earth invest solve poverty human tragedy\n"
          ]
        }
      ],
      "source": [
        "# Show examples of preprocessing\n",
        "print(\"\\nExamples of text preprocessing:\")\n",
        "print(\"Original:\", df_train['essay'].iloc[0])\n",
        "print(\"Processed:\", df_train['clean_essay'].iloc[0])\n",
        "print()\n",
        "print(\"Original:\", df_train['essay'].iloc[5])\n",
        "print(\"Processed:\", df_train['clean_essay'].iloc[5])"
      ]
    },
    {
      "cell_type": "code",
      "source": [
        "# Show vocab after text cleaning\n",
        "train_vocab = set(\" \".join(df_train['clean_essay']).split())\n",
        "test_vocab = set(\" \".join(df_test['clean_essay']).split())\n",
        "\n",
        "print(\"=== Vocabulary statistics after stopword removal ===\")\n",
        "print(f\"Train unique words : {len(train_vocab):,}\")\n",
        "print(f\"Test  unique words : {len(test_vocab):,}\")"
      ],
      "metadata": {
        "colab": {
          "base_uri": "https://localhost:8080/"
        },
        "id": "l1AyTH-q3MZF",
        "outputId": "e4a7dc47-ded4-4a7d-d648-2efe444a5440"
      },
      "execution_count": 10,
      "outputs": [
        {
          "output_type": "stream",
          "name": "stdout",
          "text": [
            "=== Vocabulary statistics after stopword removal ===\n",
            "Train unique words : 21,269\n",
            "Test  unique words : 8,829\n"
          ]
        }
      ]
    },
    {
      "cell_type": "code",
      "execution_count": 7,
      "metadata": {
        "colab": {
          "base_uri": "https://localhost:8080/"
        },
        "id": "NONT-6ROQ5d9",
        "outputId": "07661919-0d59-4350-82e1-9844752aaac4"
      },
      "outputs": [
        {
          "output_type": "stream",
          "name": "stdout",
          "text": [
            "Features (X): 3728 essay samples\n",
            "Target (y): 3728 labels\n"
          ]
        }
      ],
      "source": [
        "# Define features and target\n",
        "X = df_train['clean_essay']\n",
        "y = df_train['label']\n",
        "\n",
        "print(f\"Features (X): {len(X)} essay samples\")\n",
        "print(f\"Target (y): {len(y)} labels\")"
      ]
    },
    {
      "cell_type": "code",
      "execution_count": 8,
      "metadata": {
        "id": "GUzaLPrQRMm3"
      },
      "outputs": [],
      "source": [
        "# Split Data for Training and Validation Sets\n",
        "X_train, X_val, y_train, y_val = train_test_split(X, y, test_size=0.2, random_state=42, stratify=y)    # stratify=y Maintain label distribution"
      ]
    },
    {
      "cell_type": "code",
      "execution_count": 13,
      "metadata": {
        "colab": {
          "base_uri": "https://localhost:8080/"
        },
        "id": "ZbChBTQIRTp7",
        "outputId": "7e076c02-c43d-499d-9987-cca21b981e4c"
      },
      "outputs": [
        {
          "output_type": "stream",
          "name": "stdout",
          "text": [
            "Data split completed:\n",
            "Training samples: 2982\n",
            "Validation samples: 746\n",
            "Training label distribution: [1491 1491]\n",
            "Validation label distribution: [373 373]\n"
          ]
        }
      ],
      "source": [
        "print(\"Data split completed:\")\n",
        "print(f\"Training samples: {len(X_train)}\")\n",
        "print(f\"Validation samples: {len(X_val)}\")\n",
        "print(f\"Training label distribution: {np.bincount(y_train)}\")\n",
        "print(f\"Validation label distribution: {np.bincount(y_val)}\")"
      ]
    },
    {
      "cell_type": "markdown",
      "metadata": {
        "id": "V0F1ue_DRiQJ"
      },
      "source": [
        "# **3. Model Training and Testing**"
      ]
    },
    {
      "cell_type": "code",
      "execution_count": 9,
      "metadata": {
        "id": "eUj_tDJVRWxY"
      },
      "outputs": [],
      "source": [
        "# Create pipelines for each classifier\n",
        "from sklearn import svm\n",
        "from sklearn import tree\n",
        "from sklearn.ensemble import AdaBoostClassifier\n",
        "\n",
        "# Basic SVM pipeline\n",
        "svm_pipeline = Pipeline([\n",
        "    ('vectorizer', TfidfVectorizer(max_features=5000, ngram_range=(1,2))), # optimal values found through testing\n",
        "    ('scaler', StandardScaler(with_mean=False)),\n",
        "    ('classifier', svm.SVC(probability=True, random_state=42, cache_size=1000)) # higher cache size to reduce training time\n",
        "])\n",
        "\n",
        "# Basic Decision Tree pipeline\n",
        "dt_pipeline = Pipeline([\n",
        "    ('vectorizer', TfidfVectorizer(max_features=5000, ngram_range=(1,2))),\n",
        "    ('classifier', tree.DecisionTreeClassifier(random_state=42))\n",
        "])\n",
        "\n",
        "# Basic AdaBoost pipeline\n",
        "ada_pipeline = Pipeline([\n",
        "    ('vectorizer', TfidfVectorizer(max_features=5000, ngram_range=(1,2))),\n",
        "    ('classifier', AdaBoostClassifier(random_state=42))\n",
        "])"
      ]
    },
    {
      "cell_type": "markdown",
      "metadata": {
        "id": "YofullqOVsnJ"
      },
      "source": [
        "3.1: SVM Hyperparameter Tuning with GridSearchCV"
      ]
    },
    {
      "cell_type": "code",
      "execution_count": 18,
      "metadata": {
        "colab": {
          "base_uri": "https://localhost:8080/"
        },
        "id": "SMkPzJvqVrhm",
        "outputId": "b06f1f21-9cde-4bda-a9dc-bca58a571ac1"
      },
      "outputs": [
        {
          "output_type": "stream",
          "name": "stdout",
          "text": [
            "\n",
            " Hyperparameter Tuning For SVM \n",
            "---------------------------------------------\n",
            "\n",
            "Performing Grid Search for SVM Model...\n",
            "Fitting 3 folds for each of 32 candidates, totalling 96 fits\n",
            "Grid Search completed in 2149.86 seconds\n",
            "Best parameters: {'classifier__C': 0.1, 'classifier__gamma': 'scale', 'classifier__kernel': 'linear'}\n",
            "Best CV score: 0.9661\n",
            "SVM validation accuracy: 0.9584\n"
          ]
        }
      ],
      "source": [
        "print(\"\\n Hyperparameter Tuning For SVM \")\n",
        "print(\"-\" * 45)\n",
        "\n",
        "# Define SVM param grid, decreasing parameter amount due to intensive nature of SVM\n",
        "svm_param_grid = {\n",
        "'classifier__C': [0.1, 1, 10, 100],\n",
        "'classifier__kernel': ['linear', 'rbf'],\n",
        "'classifier__gamma': ['scale', 'auto', 0.001, 0.01] # for rbf kernel\n",
        "}\n",
        "\n",
        "# Perform Grid Search\n",
        "svm_grid_search = GridSearchCV(\n",
        "    svm_pipeline,\n",
        "    svm_param_grid,\n",
        "    cv=3,\n",
        "    scoring='accuracy',\n",
        "    n_jobs=-1,\n",
        "    verbose=1\n",
        ")\n",
        "\n",
        "print(f\"\\nPerforming Grid Search for SVM Model...\")\n",
        "start_time = time.time()\n",
        "svm_grid_search.fit(X_train, y_train)\n",
        "svm_train_time = time.time() - start_time\n",
        "\n",
        "print(f\"Grid Search completed in {svm_train_time:.2f} seconds\")\n",
        "print(f\"Best parameters: {svm_grid_search.best_params_}\")\n",
        "print(f\"Best CV score: {svm_grid_search.best_score_:.4f}\")\n",
        "\n",
        "# Evaluate SVM model on validation set\n",
        "svm_val_score = svm_grid_search.score(X_val, y_val)\n",
        "print(f\"SVM validation accuracy: {svm_val_score:.4f}\")"
      ]
    },
    {
      "cell_type": "markdown",
      "metadata": {
        "id": "W6o1GicPXl9T"
      },
      "source": [
        "3.2: Decision Tree Hyperparameter Tuning with GridSearchCV"
      ]
    },
    {
      "cell_type": "code",
      "execution_count": 19,
      "metadata": {
        "colab": {
          "base_uri": "https://localhost:8080/"
        },
        "id": "hKDNfBjSXAGf",
        "outputId": "5cce5be5-0447-4802-bb28-9d0fa3e22004"
      },
      "outputs": [
        {
          "output_type": "stream",
          "name": "stdout",
          "text": [
            "\n",
            " Hyperparameter Tuning For Decision Tree \n",
            "---------------------------------------------\n",
            "\n",
            "Performing Grid Search for Decision Tree...\n",
            "Fitting 3 folds for each of 72 candidates, totalling 216 fits\n",
            "Grid Search completed in 348.41 seconds\n",
            "Best parameters: {'classifier__criterion': 'gini', 'classifier__max_depth': 10, 'classifier__min_samples_leaf': 1, 'classifier__min_samples_split': 10}\n",
            "Best CV score: 0.8675\n",
            "Decision Tree validation accuracy: 0.8633\n"
          ]
        }
      ],
      "source": [
        "print(\"\\n Hyperparameter Tuning For Decision Tree \")\n",
        "print(\"-\" * 45)\n",
        "\n",
        "dt_param_grid = {\n",
        "'classifier__criterion': ['gini', 'entropy'],\n",
        "'classifier__max_depth': [10, 20, 30, None],\n",
        "'classifier__min_samples_split': [2, 5, 10],\n",
        "'classifier__min_samples_leaf': [1, 2, 4] }\n",
        "\n",
        "# Perform Grid Search\n",
        "dt_grid_search = GridSearchCV(\n",
        "    dt_pipeline,\n",
        "    dt_param_grid,\n",
        "    cv=3,\n",
        "    scoring='accuracy',\n",
        "    n_jobs=-1,\n",
        "    verbose=1\n",
        ")\n",
        "\n",
        "print(f\"\\nPerforming Grid Search for Decision Tree...\")\n",
        "start_time = time.time()\n",
        "dt_grid_search.fit(X_train, y_train)\n",
        "dt_train_time = time.time() - start_time\n",
        "\n",
        "print(f\"Grid Search completed in {dt_train_time:.2f} seconds\")\n",
        "print(f\"Best parameters: {dt_grid_search.best_params_}\")\n",
        "print(f\"Best CV score: {dt_grid_search.best_score_:.4f}\")\n",
        "\n",
        "# Evaluate Decision Tree model on validation set\n",
        "dt_val_score = dt_grid_search.score(X_val, y_val)\n",
        "print(f\"Decision Tree validation accuracy: {dt_val_score:.4f}\")"
      ]
    },
    {
      "cell_type": "markdown",
      "metadata": {
        "id": "Skukm4nkXow5"
      },
      "source": [
        "3.3: AdaBoost Hyperparameter Tuning with GridSearchCV"
      ]
    },
    {
      "cell_type": "code",
      "execution_count": 20,
      "metadata": {
        "id": "cCJeUtCBcVr6",
        "colab": {
          "base_uri": "https://localhost:8080/"
        },
        "outputId": "89c58cfd-da18-4274-eb34-c838c7095e7f"
      },
      "outputs": [
        {
          "output_type": "stream",
          "name": "stdout",
          "text": [
            "\n",
            " Hyperparameter Tuning For AdaBoost \n",
            "---------------------------------------------\n",
            "\n",
            "Performing Grid Search for AdaBoost...\n",
            "Fitting 3 folds for each of 8 candidates, totalling 24 fits\n",
            "Grid Search completed in 12537.23 seconds\n",
            "Best parameters: {'classifier__estimator': DecisionTreeClassifier(max_depth=10, min_samples_split=10, random_state=42), 'classifier__learning_rate': 1, 'classifier__n_estimators': 100}\n",
            "Best CV score: 0.9614\n",
            "Decision Tree validation accuracy: 0.9732\n"
          ]
        }
      ],
      "source": [
        "print(\"\\n Hyperparameter Tuning For AdaBoost \")\n",
        "print(\"-\" * 45)\n",
        "\n",
        "# Pull optimized classifiers for Decision Tree and SVM\n",
        "optimized_dt = dt_grid_search.best_estimator_.named_steps['classifier']\n",
        "optimized_svm = svm_grid_search.best_estimator_.named_steps['classifier']\n",
        "\n",
        "ada_param_grid = {\n",
        "'classifier__estimator': [optimized_dt, optimized_svm],\n",
        "'classifier__n_estimators': [50, 100],\n",
        "'classifier__learning_rate': [1, 2]\n",
        "}\n",
        "\n",
        "# Perform Grid Search\n",
        "ada_grid_search = GridSearchCV(\n",
        "    ada_pipeline,\n",
        "    ada_param_grid,\n",
        "    cv=3,\n",
        "    scoring='accuracy',\n",
        "    n_jobs=-1,\n",
        "    verbose=1\n",
        ")\n",
        "\n",
        "print(f\"\\nPerforming Grid Search for AdaBoost...\")\n",
        "start_time = time.time()\n",
        "ada_grid_search.fit(X_train, y_train)\n",
        "ada_train_time = time.time() - start_time\n",
        "\n",
        "print(f\"Grid Search completed in {ada_train_time:.2f} seconds\")\n",
        "print(f\"Best parameters: {ada_grid_search.best_params_}\")\n",
        "print(f\"Best CV score: {ada_grid_search.best_score_:.4f}\")\n",
        "\n",
        "# Evaluate Decision Tree model on validation set\n",
        "ada_val_score = ada_grid_search.score(X_val, y_val)\n",
        "print(f\"Decision Tree validation accuracy: {ada_val_score:.4f}\")"
      ]
    },
    {
      "cell_type": "code",
      "source": [
        "# Update pipelines with optimized parameters\n",
        "svm_pipeline = Pipeline([\n",
        "    ('vectorizer', TfidfVectorizer(max_features=5000, ngram_range=(1,2))), # optimal values found through testing\n",
        "    ('scaler', StandardScaler(with_mean=False)),\n",
        "    ('classifier', svm.SVC(probability=True, random_state=42, cache_size=1000, C=0.1, gamma='scale', kernel='linear')) # optimal values found through testing\n",
        "])\n",
        "\n",
        "dt_pipeline = Pipeline([\n",
        "    ('vectorizer', TfidfVectorizer(max_features=5000, ngram_range=(1,2))),\n",
        "    ('classifier', tree.DecisionTreeClassifier(random_state=42, criterion='gini', max_depth=10, min_samples_leaf=1, min_samples_split=10)) # optimal values found through testing\n",
        "])\n",
        "optimized_dt= dt_pipeline.named_steps['classifier']\n",
        "\n",
        "ada_pipeline = Pipeline([\n",
        "    ('vectorizer', TfidfVectorizer(max_features=5000, ngram_range=(1,2))),\n",
        "    ('classifier', AdaBoostClassifier(random_state=42, estimator=optimized_dt, learning_rate=1, n_estimators=100))\n",
        "])"
      ],
      "metadata": {
        "id": "yN9imX_u4FNT"
      },
      "execution_count": 11,
      "outputs": []
    },
    {
      "cell_type": "markdown",
      "source": [
        "GridSearchCV Results Analysis:"
      ],
      "metadata": {
        "id": "2lj7dimcnXVM"
      }
    },
    {
      "cell_type": "code",
      "source": [
        "# Results Analysis\n",
        "print(\"\\n RESULTS ANALYSIS\")\n",
        "print(\"-\" * 35)\n",
        "\n",
        "# Compare Models\n",
        "print(f\"SVM - Best CV Score:           {svm_grid_search.best_score_:.4f}\")\n",
        "print(f\"SVM - Test Score:              {svm_val_score:.4f}\")\n",
        "print(f\"Decision Tree - Best CV Score: {dt_grid_search.best_score_:.4f}\")\n",
        "print(f\"Decision Tree - Test Score:    {dt_val_score:.4f}\")\n",
        "print(f\"AdaBoost - Best CV Score:      {ada_grid_search.best_score_:.4f}\")\n",
        "print(f\"AdaBoost - Test Score:         {ada_val_score:.4f}\")\n",
        "\n",
        "# 8. ANALYZE TOP PERFORMING PARAMETERS\n",
        "print(\"\\n TOP PERFORMING PARAMETER COMBINATIONS\")\n",
        "print(\"-\" * 45)\n",
        "\n",
        "# Get results DataFrame\n",
        "svm_results_df = pd.DataFrame(svm_grid_search.cv_results_)\n",
        "dt_results_df = pd.DataFrame(dt_grid_search.cv_results_)\n",
        "ada_results_df = pd.DataFrame(ada_grid_search.cv_results_)\n",
        "\n",
        "# Sort by test score\n",
        "svm_top_results = svm_results_df.nlargest(3, 'mean_test_score')\n",
        "dt_top_results = dt_results_df.nlargest(3, 'mean_test_score')\n",
        "ada_top_results = ada_results_df.nlargest(3, 'mean_test_score')\n",
        "\n",
        "print(f\"Top 3 parameter combinations for SVM:\")\n",
        "for idx, (i, row) in enumerate(svm_top_results.iterrows()):\n",
        "    print(f\"\\n{idx+1}. CV Score: {row['mean_test_score']:.4f} (+/- {row['std_test_score']*2:.4f})\")\n",
        "    print(f\"   Parameters: {row['params']}\")\n",
        "\n",
        "print(f\"\\nTop 3 parameter combinations for Decision Tree:\")\n",
        "for idx, (i, row) in enumerate(dt_top_results.iterrows()):\n",
        "    print(f\"\\n{idx+1}. CV Score: {row['mean_test_score']:.4f} (+/- {row['std_test_score']*2:.4f})\")\n",
        "    print(f\"   Parameters: {row['params']}\")\n",
        "\n",
        "print(f\"\\nTop 3 parameter combinations for AdaBoost:\")\n",
        "for idx, (i, row) in enumerate(ada_top_results.iterrows()):\n",
        "    print(f\"\\n{idx+1}. CV Score: {row['mean_test_score']:.4f} (+/- {row['std_test_score']*2:.4f})\")\n",
        "    print(f\"   Parameters: {row['params']}\")"
      ],
      "metadata": {
        "colab": {
          "base_uri": "https://localhost:8080/"
        },
        "id": "_icX1a0xJIq0",
        "outputId": "657256de-0f87-4539-c4b5-02a98cdc9b7f"
      },
      "execution_count": 22,
      "outputs": [
        {
          "output_type": "stream",
          "name": "stdout",
          "text": [
            "\n",
            " RESULTS ANALYSIS\n",
            "-----------------------------------\n",
            "SVM - Best CV Score:           0.9661\n",
            "SVM - Test Score:              0.9584\n",
            "Decision Tree - Best CV Score: 0.8675\n",
            "Decision Tree - Test Score:    0.8633\n",
            "AdaBoost - Best CV Score:      0.9614\n",
            "AdaBoost - Test Score:         0.9732\n",
            "\n",
            " TOP PERFORMING PARAMETER COMBINATIONS\n",
            "---------------------------------------------\n",
            "Top 3 parameter combinations for SVM:\n",
            "\n",
            "1. CV Score: 0.9661 (+/- 0.0109)\n",
            "   Parameters: {'classifier__C': 0.1, 'classifier__gamma': 'scale', 'classifier__kernel': 'linear'}\n",
            "\n",
            "2. CV Score: 0.9661 (+/- 0.0109)\n",
            "   Parameters: {'classifier__C': 0.1, 'classifier__gamma': 'auto', 'classifier__kernel': 'linear'}\n",
            "\n",
            "3. CV Score: 0.9661 (+/- 0.0109)\n",
            "   Parameters: {'classifier__C': 0.1, 'classifier__gamma': 0.001, 'classifier__kernel': 'linear'}\n",
            "\n",
            "Top 3 parameter combinations for Decision Tree:\n",
            "\n",
            "1. CV Score: 0.8675 (+/- 0.0090)\n",
            "   Parameters: {'classifier__criterion': 'gini', 'classifier__max_depth': 10, 'classifier__min_samples_leaf': 1, 'classifier__min_samples_split': 10}\n",
            "\n",
            "2. CV Score: 0.8675 (+/- 0.0050)\n",
            "   Parameters: {'classifier__criterion': 'gini', 'classifier__max_depth': 10, 'classifier__min_samples_leaf': 2, 'classifier__min_samples_split': 2}\n",
            "\n",
            "3. CV Score: 0.8672 (+/- 0.0087)\n",
            "   Parameters: {'classifier__criterion': 'gini', 'classifier__max_depth': 10, 'classifier__min_samples_leaf': 1, 'classifier__min_samples_split': 2}\n",
            "\n",
            "Top 3 parameter combinations for AdaBoost:\n",
            "\n",
            "1. CV Score: 0.9614 (+/- 0.0204)\n",
            "   Parameters: {'classifier__estimator': DecisionTreeClassifier(max_depth=10, min_samples_split=10, random_state=42), 'classifier__learning_rate': 1, 'classifier__n_estimators': 100}\n",
            "\n",
            "2. CV Score: 0.9537 (+/- 0.0157)\n",
            "   Parameters: {'classifier__estimator': DecisionTreeClassifier(max_depth=10, min_samples_split=10, random_state=42), 'classifier__learning_rate': 1, 'classifier__n_estimators': 50}\n",
            "\n",
            "3. CV Score: 0.8991 (+/- 0.0299)\n",
            "   Parameters: {'classifier__estimator': DecisionTreeClassifier(max_depth=10, min_samples_split=10, random_state=42), 'classifier__learning_rate': 2, 'classifier__n_estimators': 100}\n"
          ]
        }
      ]
    },
    {
      "cell_type": "markdown",
      "source": [
        "# **4. Performance Evalutation**\n",
        "\n",
        "Evaluate Each Model with Cross Validation:"
      ],
      "metadata": {
        "id": "1CGRPrtio_Oq"
      }
    },
    {
      "cell_type": "code",
      "source": [
        "# Perform 5-fold cross validation for each model\n",
        "pipelines = {\n",
        "    'SVM': svm_pipeline,\n",
        "    'Decision Tree': dt_pipeline,\n",
        "    'AdaBoost': ada_pipeline\n",
        "}\n",
        "\n",
        "cv_results = {}\n",
        "\n",
        "print(\"Performing 5-fold cross-validation:\")\n",
        "print(\"-\" * 38)\n",
        "\n",
        "for name, pipeline in pipelines.items():\n",
        "    print(f\"\\nEvaluating {name}:\")\n",
        "\n",
        "    # 5-fold cross-validation\n",
        "    cv_scores = cross_val_score(pipeline, X_train, y_train, cv=5, scoring='accuracy')\n",
        "    cv_results[name] = cv_scores\n",
        "\n",
        "    print(f\"  CV Scores: {cv_scores}\")\n",
        "    print(f\"  Mean CV Score: {cv_scores.mean():.4f} (+/- {cv_scores.std() * 2:.4f})\")\n",
        "    print(f\"  Min Score: {cv_scores.min():.4f}\")\n",
        "    print(f\"  Max Score: {cv_scores.max():.4f}\")"
      ],
      "metadata": {
        "colab": {
          "base_uri": "https://localhost:8080/"
        },
        "id": "8Ffu-muaoJYc",
        "outputId": "23efeae6-3ca8-4b76-c71b-382dd59f5ec0"
      },
      "execution_count": 12,
      "outputs": [
        {
          "output_type": "stream",
          "name": "stdout",
          "text": [
            "Performing 5-fold cross-validation:\n",
            "--------------------------------------\n",
            "\n",
            "Evaluating SVM:\n",
            "  CV Scores: [0.96314908 0.96314908 0.96308725 0.96812081 0.95805369]\n",
            "  Mean CV Score: 0.9631 (+/- 0.0064)\n",
            "  Min Score: 0.9581\n",
            "  Max Score: 0.9681\n",
            "\n",
            "Evaluating Decision Tree:\n",
            "  CV Scores: [0.86934673 0.87437186 0.87248322 0.86744966 0.84060403]\n",
            "  Mean CV Score: 0.8649 (+/- 0.0247)\n",
            "  Min Score: 0.8406\n",
            "  Max Score: 0.8744\n",
            "\n",
            "Evaluating AdaBoost:\n",
            "  CV Scores: [0.95309883 0.96984925 0.96979866 0.97147651 0.95134228]\n",
            "  Mean CV Score: 0.9631 (+/- 0.0179)\n",
            "  Min Score: 0.9513\n",
            "  Max Score: 0.9715\n"
          ]
        }
      ]
    },
    {
      "cell_type": "code",
      "source": [
        "# Detailed Performance Comparison\n",
        "\n",
        "print(\"\\nDetailed Performance Comparison\")\n",
        "print(\"-\" * 40)\n",
        "\n",
        "print(\"Model Comparison Summary:\")\n",
        "print(\"-\" * 25)\n",
        "print(f\"{'Model':<25} {'CV Mean':<10} {'Val Acc':<10} {'Train Time':<12}\")\n",
        "print(\"-\" * 60)\n",
        "print(f\"{'SVM':<25} {cv_results['SVM'].mean():.4f}     {svm_val_score:.4f}     {svm_train_time:.3f}s\")\n",
        "print(f\"{'Decision Tree':<25} {cv_results['Decision Tree'].mean():.4f}     {dt_val_score:.4f}     {dt_train_time:.3f}s\")\n",
        "print(f\"{'AdaBoost':<25} {cv_results['AdaBoost'].mean():.4f}     {ada_val_score:.4f}     {ada_train_time:.3f}s\")"
      ],
      "metadata": {
        "colab": {
          "base_uri": "https://localhost:8080/"
        },
        "id": "RF1lQpYc9yWA",
        "outputId": "e20f8c5e-2f35-48b5-9fe4-ec9261bfdbc4"
      },
      "execution_count": 25,
      "outputs": [
        {
          "output_type": "stream",
          "name": "stdout",
          "text": [
            "\n",
            "Detailed Performance Comparison\n",
            "----------------------------------------\n",
            "Model Comparison Summary:\n",
            "-------------------------\n",
            "Model                     CV Mean    Val Acc    Train Time  \n",
            "------------------------------------------------------------\n",
            "SVM                       0.9631     0.9584     2149.857s\n",
            "Decision Tree             0.8649     0.8633     348.407s\n",
            "AdaBoost                  0.9631     0.9732     12537.230s\n"
          ]
        }
      ]
    },
    {
      "cell_type": "markdown",
      "source": [
        "Make Predictions and Report Result Statistics:"
      ],
      "metadata": {
        "id": "dC8PCSEfBEAu"
      }
    },
    {
      "cell_type": "code",
      "source": [
        "# Make predictions on validation data\n",
        "svm_predictions = svm_grid_search.best_estimator_.predict(X_val)\n",
        "dt_predictions = dt_grid_search.best_estimator_.predict(X_val)\n",
        "ada_predictions = ada_grid_search.best_estimator_.predict(X_val)\n",
        "\n",
        "# Calculate and print the accuracy scores\n",
        "print(\"\\n=======Accuracy Scores===========\")\n",
        "acc_svm = metrics.accuracy_score(y_val, svm_predictions)\n",
        "acc_dt = metrics.accuracy_score(y_val, dt_predictions)\n",
        "acc_ada = metrics.accuracy_score(y_val, ada_predictions)\n",
        "\n",
        "print(f\"Support Vector Machine Accuracy: {acc_svm*100:.2f}%\")\n",
        "print(f\"Decision Tree Accuracy: {acc_dt*100:.2f}%\")\n",
        "print(f\"AdaBoost Accuracy: {acc_ada*100:.2f}%\")\n",
        "\n",
        "# Print the confusion matrix\n",
        "print(\"\\n=======Confusion Matrix===========\")\n",
        "print(\"Support Vector Machine:\\n\", metrics.confusion_matrix(y_val, svm_predictions))\n",
        "print(\"Decision Tree:\\n\", metrics.confusion_matrix(y_val, dt_predictions))\n",
        "print(\"AdaBoost:\\n\", metrics.confusion_matrix(y_val, ada_predictions))\n",
        "\n",
        "# Additional evaluation metrics\n",
        "print(\"\\n=======Classification Report===========\")\n",
        "print(\"Support Vector Machine:\\n\", metrics.classification_report(y_val, svm_predictions, target_names=['Human','AI']))\n",
        "print(\"Decision Tree:\\n\", metrics.classification_report(y_val, dt_predictions, target_names=['Human', 'AI']))\n",
        "print(\"AdaBoost:\\n\", metrics.classification_report(y_val, ada_predictions, target_names=['Human', 'AI']))"
      ],
      "metadata": {
        "colab": {
          "base_uri": "https://localhost:8080/"
        },
        "id": "wVU0ENVP-fGs",
        "outputId": "069912e6-f201-49f2-d4d9-ac6f42baaa84"
      },
      "execution_count": 27,
      "outputs": [
        {
          "output_type": "stream",
          "name": "stdout",
          "text": [
            "\n",
            "=======Accuracy Scores===========\n",
            "Support Vector Machine Accuracy: 95.84%\n",
            "Decision Tree Accuracy: 86.33%\n",
            "AdaBoost Accuracy: 97.32%\n",
            "\n",
            "=======Confusion Matrix===========\n",
            "Support Vector Machine:\n",
            " [[355  18]\n",
            " [ 13 360]]\n",
            "Decision Tree:\n",
            " [[334  39]\n",
            " [ 63 310]]\n",
            "AdaBoost:\n",
            " [[364   9]\n",
            " [ 11 362]]\n",
            "\n",
            "=======Classification Report===========\n",
            "Support Vector Machine:\n",
            "               precision    recall  f1-score   support\n",
            "\n",
            "       Human       0.96      0.95      0.96       373\n",
            "          AI       0.95      0.97      0.96       373\n",
            "\n",
            "    accuracy                           0.96       746\n",
            "   macro avg       0.96      0.96      0.96       746\n",
            "weighted avg       0.96      0.96      0.96       746\n",
            "\n",
            "Decision Tree:\n",
            "               precision    recall  f1-score   support\n",
            "\n",
            "       Human       0.84      0.90      0.87       373\n",
            "          AI       0.89      0.83      0.86       373\n",
            "\n",
            "    accuracy                           0.86       746\n",
            "   macro avg       0.86      0.86      0.86       746\n",
            "weighted avg       0.86      0.86      0.86       746\n",
            "\n",
            "AdaBoost:\n",
            "               precision    recall  f1-score   support\n",
            "\n",
            "       Human       0.97      0.98      0.97       373\n",
            "          AI       0.98      0.97      0.97       373\n",
            "\n",
            "    accuracy                           0.97       746\n",
            "   macro avg       0.97      0.97      0.97       746\n",
            "weighted avg       0.97      0.97      0.97       746\n",
            "\n"
          ]
        }
      ]
    },
    {
      "cell_type": "markdown",
      "source": [
        "Plot ROC Curve:"
      ],
      "metadata": {
        "id": "Od3prgpeBNjx"
      }
    },
    {
      "cell_type": "code",
      "source": [
        "from tkinter.constants import Y\n",
        "import matplotlib.pyplot as plt\n",
        "# roc curve and auc\n",
        "from sklearn.metrics import roc_curve\n",
        "from sklearn.metrics import roc_auc_score\n",
        "\n",
        "# predict probabilities\n",
        "svm_probs = svm_grid_search.best_estimator_.predict_proba(X_val)\n",
        "dt_probs = dt_grid_search.best_estimator_.predict_proba(X_val)\n",
        "ada_probs = ada_grid_search.best_estimator_.predict_proba(X_val)\n",
        "# keep probabilities for the positive outcome only\n",
        "svm_probs = svm_probs[:, 1]\n",
        "dt_probs = dt_probs[:, 1]\n",
        "ada_probs = ada_probs[:, 1]\n",
        "# calculate scores\n",
        "svm_auc = roc_auc_score(y_val, svm_probs)\n",
        "dt_auc = roc_auc_score(y_val, dt_probs)\n",
        "ada_auc = roc_auc_score(y_val, ada_probs)\n",
        "# summarize scores\n",
        "print('Support Vector Machine: ROC AUC=%.3f' % (svm_auc))\n",
        "print('Decision Tree: ROC AUC=%.3f' % (dt_auc))\n",
        "print('AdaBoost: ROC AUC=%.3f' % (ada_auc))\n",
        "# calculate roc curves\n",
        "sc_fpr, sc_tpr, _ = roc_curve(y_val, svm_probs)\n",
        "dt_fpr, dt_tpr, _ = roc_curve(y_val, dt_probs)\n",
        "ada_fpr, ada_tpr, _ = roc_curve(y_val, ada_probs)\n",
        "# plot the roc curve for the model\n",
        "plt.plot(sc_fpr, sc_tpr, linestyle='--', label='Support Vector Machine')\n",
        "plt.plot(dt_fpr, dt_tpr, marker='.', label='Decision Tree')\n",
        "plt.plot(ada_fpr, ada_tpr, marker='o', label='AdaBoost')\n",
        "# axis labels\n",
        "plt.xlabel('False Positive Rate')\n",
        "plt.ylabel('True Positive Rate')\n",
        "# show the legend\n",
        "plt.legend()\n",
        "# show the plot\n",
        "plt.show()"
      ],
      "metadata": {
        "colab": {
          "base_uri": "https://localhost:8080/",
          "height": 530
        },
        "id": "ynlOYRvxAPaW",
        "outputId": "345f00e7-64f8-4c1e-8b00-c6eeeafdb613"
      },
      "execution_count": 29,
      "outputs": [
        {
          "output_type": "stream",
          "name": "stdout",
          "text": [
            "Support Vector Machine: ROC AUC=0.993\n",
            "Decision Tree: ROC AUC=0.877\n",
            "AdaBoost: ROC AUC=0.993\n"
          ]
        },
        {
          "output_type": "display_data",
          "data": {
            "text/plain": [
              "<Figure size 640x480 with 1 Axes>"
            ],
            "image/png": "[encoded data removed]"
          },
          "metadata": {}
        }
      ]
    },
    {
      "cell_type": "markdown",
      "source": [
        "Comparison Analysis:\n",
        "> In terms of accuracy, AdaBoost has the highest at about 97%, however it is also the slowest to train. In contrast, Decision Tree trained the fastest, but sported the lowest accuracy at about 86%. SVM was the middle ground, with a 95% accuracy and training time in-between Decision Tree and AdaBoost.\n",
        "\n",
        "> In cross validation, SVM proved to be the most consistent with the smallest amount of deviation between the 5 folds. It was also again quite a bit faster than AdaBoost, so it is the best choice for consistency and efficiency.\n",
        "\n",
        "# **5. Model Saving for Streamlit Deployment**"
      ],
      "metadata": {
        "id": "GzDNmS31h_pz"
      }
    },
    {
      "cell_type": "code",
      "source": [
        "#Train Final Pipeline on All Training Data\n",
        "\n",
        "print(\"Training pipelines on all available training data...\")\n",
        "\n",
        "# Train pipelines on the complete training set\n",
        "svm_pipeline.fit(X, y)\n",
        "dt_pipeline.fit(X, y)\n",
        "ada_pipeline.fit(X, y)\n",
        "\n",
        "print(\"Pipelines trained successfully!\")\n",
        "\n",
        "# Test pipeline performance on validation set\n",
        "svm_pipeline_predictions = svm_pipeline.predict(X_val)\n",
        "dt_pipeline_predictions = dt_pipeline.predict(X_val)\n",
        "ada_pipeline_predictions = ada_pipeline.predict(X_val)\n",
        "\n",
        "svm_pipeline_accuracy = metrics.accuracy_score(y_val, svm_pipeline_predictions)\n",
        "dt_pipeline_accuracy = metrics.accuracy_score(y_val, dt_pipeline_predictions)\n",
        "ada_pipeline_accuracy = metrics.accuracy_score(y_val, ada_pipeline_predictions)\n",
        "\n",
        "print(\"Final Pipeline Results:\")\n",
        "print(f\"SVM validation accuracy: {svm_pipeline_accuracy:.4f}\")\n",
        "print(f\"Decision Tree validation accuracy: {dt_pipeline_accuracy:.4f}\")\n",
        "print(f\"AdaBoost validation accuracy: {ada_pipeline_accuracy:.4f}\")\n",
        "\n",
        "# Show detailed classification report\n",
        "print(\"\\n=======Classification Report===========\")\n",
        "print(\"Support Vector Machine:\\n\", metrics.classification_report(y_val, svm_pipeline_predictions, target_names=['Human','AI']))\n",
        "print(\"Decision Tree:\\n\", metrics.classification_report(y_val, dt_pipeline_predictions, target_names=['Human', 'AI']))\n",
        "print(\"AdaBoost:\\n\", metrics.classification_report(y_val, ada_pipeline_predictions, target_names=['Human', 'AI']))"
      ],
      "metadata": {
        "colab": {
          "base_uri": "https://localhost:8080/"
        },
        "id": "JW5Fe6nXT343",
        "outputId": "7f847f4d-0952-4022-d00a-3cc972ba6077"
      },
      "execution_count": 13,
      "outputs": [
        {
          "output_type": "stream",
          "name": "stdout",
          "text": [
            "Training pipelines on all available training data...\n",
            "Pipelines trained successfully!\n",
            "Final Pipeline Results:\n",
            "SVM validation accuracy: 1.0000\n",
            "Decision Tree validation accuracy: 0.9531\n",
            "AdaBoost validation accuracy: 1.0000\n",
            "\n",
            "=======Classification Report===========\n",
            "Support Vector Machine:\n",
            "               precision    recall  f1-score   support\n",
            "\n",
            "       Human       1.00      1.00      1.00       373\n",
            "          AI       1.00      1.00      1.00       373\n",
            "\n",
            "    accuracy                           1.00       746\n",
            "   macro avg       1.00      1.00      1.00       746\n",
            "weighted avg       1.00      1.00      1.00       746\n",
            "\n",
            "Decision Tree:\n",
            "               precision    recall  f1-score   support\n",
            "\n",
            "       Human       0.94      0.97      0.95       373\n",
            "          AI       0.97      0.94      0.95       373\n",
            "\n",
            "    accuracy                           0.95       746\n",
            "   macro avg       0.95      0.95      0.95       746\n",
            "weighted avg       0.95      0.95      0.95       746\n",
            "\n",
            "AdaBoost:\n",
            "               precision    recall  f1-score   support\n",
            "\n",
            "       Human       1.00      1.00      1.00       373\n",
            "          AI       1.00      1.00      1.00       373\n",
            "\n",
            "    accuracy                           1.00       746\n",
            "   macro avg       1.00      1.00      1.00       746\n",
            "weighted avg       1.00      1.00      1.00       746\n",
            "\n"
          ]
        }
      ]
    },
    {
      "cell_type": "code",
      "source": [
        "#Save Models for Streamlit Deployment\n",
        "\n",
        "print(\"Saving models for Streamlit deployment...\")\n",
        "\n",
        "# Save the complete pipeline (includes TF-IDF + classifier)\n",
        "pipeline_filename = 'ai_detection_pipeline.pkl'\n",
        "joblib.dump(svm_pipeline, pipeline_filename)\n",
        "\n",
        "# Also save individual components for flexibility\n",
        "tfidf_filename = 'tfidf_vectorizer.pkl'\n",
        "model_filename = 'svm_model.pkl'\n",
        "\n",
        "vectorizer = svm_pipeline.named_steps['vectorizer']\n",
        "svm_model = svm_pipeline.named_steps['classifier']\n",
        "joblib.dump(vectorizer, tfidf_filename)\n",
        "joblib.dump(svm_model, model_filename)\n",
        "\n",
        "print(\"Models saved successfully!\")\n",
        "print(f\"Complete pipeline: {pipeline_filename}\")\n",
        "print(f\"TF-IDF vectorizer: {tfidf_filename}\")\n",
        "print(f\"Best model: {model_filename}\")"
      ],
      "metadata": {
        "colab": {
          "base_uri": "https://localhost:8080/"
        },
        "id": "iQhYXGf8k5Nq",
        "outputId": "8f91ebfd-271b-4215-d983-82cdcb3b96de"
      },
      "execution_count": 14,
      "outputs": [
        {
          "output_type": "stream",
          "name": "stdout",
          "text": [
            "Saving models for Streamlit deployment...\n",
            "Models saved successfully!\n",
            "Complete pipeline: ai_detection_pipeline.pkl\n",
            "TF-IDF vectorizer: tfidf_vectorizer.pkl\n",
            "Best model: svm_model.pkl\n"
          ]
        }
      ]
    },
    {
      "cell_type": "code",
      "source": [
        "# Save remaining classifiers (Decision Tree + AdaBoost)\n",
        "\n",
        "print(\"Saving remaining models...\")\n",
        "\n",
        "# Save Decision Tree model\n",
        "dt_filename = 'dt_model.pkl'\n",
        "ada_filename = 'ada_model.pkl'\n",
        "\n",
        "dt_model = dt_pipeline.named_steps['classifier']\n",
        "ada_model = ada_pipeline.named_steps['classifier']\n",
        "joblib.dump(dt_model, dt_filename)\n",
        "joblib.dump(ada_model, ada_filename)\n",
        "\n",
        "print(\"Models saved successfully!\")\n",
        "print(f\"Decision Tree model: {dt_filename}\")\n",
        "print(f\"AdaBoost model: {ada_filename}\")"
      ],
      "metadata": {
        "colab": {
          "base_uri": "https://localhost:8080/"
        },
        "id": "GX0RnHpfly-r",
        "outputId": "70d44ab1-9277-462b-a61a-505eec03a111"
      },
      "execution_count": 16,
      "outputs": [
        {
          "output_type": "stream",
          "name": "stdout",
          "text": [
            "Saving remaining models...\n",
            "Models saved successfully!\n",
            "Decision Tree model: dt_model.pkl\n",
            "AdaBoost model: ada_model.pkl\n"
          ]
        }
      ]
    },
    {
      "cell_type": "code",
      "source": [],
      "metadata": {
        "id": "1FB_CdVPstPM"
      },
      "execution_count": null,
      "outputs": []
    }
  ],
  "metadata": {
    "colab": {
      "provenance": []
    },
    "kernelspec": {
      "display_name": "Python 3",
      "name": "python3"
    },
    "language_info": {
      "name": "python"
    }
  },
  "nbformat": 4,
  "nbformat_minor": 0
}